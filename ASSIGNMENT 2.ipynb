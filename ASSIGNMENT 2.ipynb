{
 "cells": [
  {
   "cell_type": "code",
   "execution_count": null,
   "id": "ad2ff81d-1f39-41fb-8976-2c90e301130c",
   "metadata": {},
   "outputs": [],
   "source": [
    "Q1. Which keyword is used to create a function? Create a function to return a list of odd numbers in the\n",
    "range of 1 to 25."
   ]
  },
  {
   "cell_type": "code",
   "execution_count": 7,
   "id": "20978e75-3f88-4843-8ef4-d1db6b07fef4",
   "metadata": {},
   "outputs": [],
   "source": [
    "#in python def keyword is used to create function\n",
    "def mj():\n",
    "    mj = []\n",
    "    for i in range(1, 26):\n",
    "        if i % 2 != 0:\n",
    "            mj.append(i)\n",
    "    return mj"
   ]
  },
  {
   "cell_type": "code",
   "execution_count": 8,
   "id": "a9edc6f5-fe9a-4518-973c-2fe0a52de933",
   "metadata": {},
   "outputs": [
    {
     "data": {
      "text/plain": [
       "[1, 3, 5, 7, 9, 11, 13, 15, 17, 19, 21, 23, 25]"
      ]
     },
     "execution_count": 8,
     "metadata": {},
     "output_type": "execute_result"
    }
   ],
   "source": [
    "mj()"
   ]
  },
  {
   "cell_type": "code",
   "execution_count": null,
   "id": "52ef0b97-6678-4e4b-bb19-20376ea3d454",
   "metadata": {},
   "outputs": [],
   "source": [
    "Q2. Why *args and **kwargs is used in some functions? Create a function each for *args and **kwargs\n",
    "to demonstrate their use."
   ]
  },
  {
   "cell_type": "code",
   "execution_count": 29,
   "id": "df5defe2-fe6f-41a7-95ab-c797ab73c669",
   "metadata": {},
   "outputs": [
    {
     "name": "stdout",
     "output_type": "stream",
     "text": [
      "Sum: 8\n",
      "Sum: 22\n",
      "Sum: 17\n"
     ]
    }
   ],
   "source": [
    "#(1) *args is used to pass a non-keyworded, variable-length argument list, \n",
    "\n",
    "def mj(*num):\n",
    "    sum = 0\n",
    "    \n",
    "    for n in num:\n",
    "        sum = sum + n\n",
    "\n",
    "    print(\"Sum:\",sum)\n",
    "\n",
    "mj(3,5)\n",
    "mj(4,5,6,7)\n",
    "mj(1,2,3,5,6)"
   ]
  },
  {
   "cell_type": "code",
   "execution_count": 30,
   "id": "99e49219-bf3a-4232-849e-f8db0d392dd6",
   "metadata": {},
   "outputs": [
    {
     "name": "stdout",
     "output_type": "stream",
     "text": [
      "\n",
      "Data type of argument: <class 'dict'>\n",
      "Firstname is thor\n",
      "Lastname is son of oden\n",
      "Age is 22\n",
      "Phone is 1234567890\n",
      "\n",
      "Data type of argument: <class 'dict'>\n",
      "Firstname is tony\n",
      "Lastname is stark\n",
      "Email is ironmantony@nomail.com\n",
      "Country is Wakanda\n",
      "Age is 25\n",
      "Phone is 9876543210\n"
     ]
    }
   ],
   "source": [
    "#(2) kwargs is used to pass a keyworded, variable-length argument list.\n",
    "\n",
    "def intro(**data):\n",
    "    print(\"\\nData type of argument:\",type(data))\n",
    "\n",
    "    for key, value in data.items():\n",
    "        print(\"{} is {}\".format(key,value))\n",
    "\n",
    "intro(Firstname=\"thor\", Lastname=\"son of oden\", Age=22, Phone=1234567890)\n",
    "intro(Firstname=\"tony\", Lastname=\"stark\", Email=\"ironmantony@nomail.com\", Country=\"Wakanda\", Age=25, Phone= 9876543210)"
   ]
  },
  {
   "cell_type": "code",
   "execution_count": null,
   "id": "8854a9c2-8dd3-4929-b1bf-cc076882b266",
   "metadata": {},
   "outputs": [],
   "source": [
    "Q3.  What is an iterator in python? Name the method used to initialise the iterator object and the method\n",
    "used for iteration. Use these methods to print the first five elements of the given list [2, 4, 6, 8, 10, 12, 14,\n",
    "16, 18, 20]."
   ]
  },
  {
   "cell_type": "code",
   "execution_count": 31,
   "id": "3f1e8d67-f527-4045-a630-b4a8ee0ec764",
   "metadata": {},
   "outputs": [
    {
     "name": "stdout",
     "output_type": "stream",
     "text": [
      "2\n",
      "4\n",
      "6\n",
      "8\n",
      "10\n"
     ]
    }
   ],
   "source": [
    "#An iterator in Python is an object that can be iterated (looped) upon. An object which will return data, one element at a time. The two methods used to create an iterator are __iter__ and __next__.\n",
    "\n",
    "\n",
    "my_list = [2, 4, 6, 8, 10, 12,14,16, 18, 20]\n",
    "my_iter = iter(my_list)\n",
    "\n",
    "for i in range(5):\n",
    "    print(next(my_iter))"
   ]
  },
  {
   "cell_type": "code",
   "execution_count": null,
   "id": "045b7d35-ebac-4d57-8277-afb007405415",
   "metadata": {},
   "outputs": [],
   "source": [
    "Q4.  What is a generator function in python? Why yield keyword is used? Give an example of a generator\n",
    "function."
   ]
  },
  {
   "cell_type": "code",
   "execution_count": 19,
   "id": "ffd69095-fc95-4256-83ed-57a570d0f998",
   "metadata": {},
   "outputs": [],
   "source": [
    "#generator function is special kind of function that returns a lazy iterator @ and yield keyword is used to create generate function\n",
    "def natural_number(n):\n",
    "    num = 1\n",
    "    while num <= 9:\n",
    "        yield num\n",
    "        num += 1"
   ]
  },
  {
   "cell_type": "code",
   "execution_count": 20,
   "id": "e7fa2f7d-4e9d-40e1-b5a1-b88d5532b389",
   "metadata": {},
   "outputs": [],
   "source": [
    "n = natural_number(9)"
   ]
  },
  {
   "cell_type": "code",
   "execution_count": 21,
   "id": "4a9ed9ec-46af-4890-ac81-99cac079d5fd",
   "metadata": {},
   "outputs": [
    {
     "name": "stdout",
     "output_type": "stream",
     "text": [
      "1\n",
      "2\n",
      "3\n",
      "4\n",
      "5\n",
      "6\n",
      "7\n",
      "8\n",
      "9\n"
     ]
    }
   ],
   "source": [
    "for i in n:\n",
    "    print(i)"
   ]
  },
  {
   "cell_type": "code",
   "execution_count": null,
   "id": "310b25de-9e0c-4c12-a10f-1af76c7106f0",
   "metadata": {},
   "outputs": [],
   "source": [
    "Q5. Create a generator function for prime numbers less than 1000. Use the next() method to print the \n",
    "first 20 prime numbers."
   ]
  },
  {
   "cell_type": "code",
   "execution_count": 34,
   "id": "77cf10aa-33b3-4da5-838a-6c84829c54cb",
   "metadata": {},
   "outputs": [],
   "source": [
    "def prime_number(n):\n",
    "    num = 1000\n",
    "    for num in range(20,1000):\n",
    "        for i in range(20,num):\n",
    "            if (num % i) == 0:\n",
    "                break\n",
    "        else:\n",
    "            yield num"
   ]
  },
  {
   "cell_type": "code",
   "execution_count": 46,
   "id": "3ba42bd9-b29e-4006-803c-70716f472324",
   "metadata": {},
   "outputs": [],
   "source": [
    "# Python program to display all the prime numbers within an interval\n",
    "\n",
    "lower = 20\n",
    "upper = 1000\n",
    "\n",
    "def prime_number(n):\n",
    "    num = 1000\n",
    "    for num in range(20,1000 + 1):\n",
    "        for i in range(20, num):\n",
    "             if (num % i) == 0:\n",
    "                    break\n",
    "        else:\n",
    "           yield(num)"
   ]
  },
  {
   "cell_type": "code",
   "execution_count": 47,
   "id": "8c631841-94a5-4390-ab55-ed16ca40b0ad",
   "metadata": {},
   "outputs": [
    {
     "name": "stdout",
     "output_type": "stream",
     "text": [
      "20\n",
      "21\n",
      "22\n",
      "23\n",
      "24\n",
      "25\n",
      "26\n",
      "27\n",
      "28\n",
      "29\n",
      "30\n",
      "31\n",
      "32\n",
      "33\n",
      "34\n",
      "35\n",
      "36\n",
      "37\n",
      "38\n",
      "39\n"
     ]
    }
   ],
   "source": [
    "prime_generator = prime_number(n)\n",
    "for i in range(20):\n",
    "    print(next(prime_generator))"
   ]
  },
  {
   "cell_type": "code",
   "execution_count": null,
   "id": "b14fe651-2516-48ec-8a5c-1b43b36c970d",
   "metadata": {},
   "outputs": [],
   "source": [
    "Q6. Write a python program to print the first 10 Fibonacci numbers using a while loop.\n"
   ]
  },
  {
   "cell_type": "code",
   "execution_count": 57,
   "id": "c564c8d7-5db4-4e94-9cf3-b8709eb496ca",
   "metadata": {},
   "outputs": [],
   "source": [
    "a,b = 0,1\n",
    "def count_test(n):\n",
    "    count = 1\n",
    "    while count < 10:\n",
    "        yield count\n",
    "        count = count + 1 "
   ]
  },
  {
   "cell_type": "code",
   "execution_count": 58,
   "id": "4bf516f1-4d16-4825-a304-37850c7ea1e5",
   "metadata": {},
   "outputs": [],
   "source": [
    "c = count_test(10)"
   ]
  },
  {
   "cell_type": "code",
   "execution_count": 59,
   "id": "5038ec58-9afc-414e-91ba-f9d1c1680eda",
   "metadata": {},
   "outputs": [
    {
     "name": "stdout",
     "output_type": "stream",
     "text": [
      "1\n",
      "2\n",
      "3\n",
      "4\n",
      "5\n",
      "6\n",
      "7\n",
      "8\n",
      "9\n"
     ]
    }
   ],
   "source": [
    "for i in c:\n",
    "    print(i)"
   ]
  },
  {
   "cell_type": "code",
   "execution_count": null,
   "id": "958be4ef-6c85-4182-88ab-b6eb30bb3c0c",
   "metadata": {},
   "outputs": [],
   "source": [
    "Q7. Write a List Comprehension to iterate through the given string: ‘pwskills’.\n",
    "\n",
    "Expected output: ['p', 'w', 's', 'k', 'i', 'l', 'l', 's'] "
   ]
  },
  {
   "cell_type": "code",
   "execution_count": 60,
   "id": "0a951975-7305-43f4-b3aa-043bcd164005",
   "metadata": {},
   "outputs": [
    {
     "name": "stdout",
     "output_type": "stream",
     "text": [
      "['p', 'w', 's', 'k', 'i', 'l', 'l']\n"
     ]
    }
   ],
   "source": [
    "my_string =  \"pwskill\"\n",
    "result =[char for char in my_string]\n",
    "print(result)"
   ]
  },
  {
   "cell_type": "code",
   "execution_count": null,
   "id": "3304db48-b1bd-47eb-8cdd-8981016f7aac",
   "metadata": {},
   "outputs": [],
   "source": [
    "Q8. Write a python program to check whether a given number is Palindrome or not using a while loop."
   ]
  },
  {
   "cell_type": "code",
   "execution_count": 1,
   "id": "c2bfed1d-7cba-4348-aeb4-7b67fa24685b",
   "metadata": {},
   "outputs": [],
   "source": [
    "def is_palindrome(n):\n",
    "    temp = n\n",
    "    rev = 0\n",
    "    while n > 0:\n",
    "        digit = n % 10\n",
    "        rev = rev * 10 + digit\n",
    "        n = n // 10\n",
    "    if temp == rev:\n",
    "        return True\n",
    "    else:\n",
    "        return False"
   ]
  },
  {
   "cell_type": "code",
   "execution_count": 2,
   "id": "aaae4749-0fb7-43ec-a18e-2a0304b4fc36",
   "metadata": {},
   "outputs": [
    {
     "name": "stdout",
     "output_type": "stream",
     "text": [
      "True\n",
      "False\n"
     ]
    }
   ],
   "source": [
    "print(is_palindrome(121))\n",
    "print(is_palindrome(123)) "
   ]
  },
  {
   "cell_type": "code",
   "execution_count": null,
   "id": "3016f49e-338c-4628-88e4-65c3f198e175",
   "metadata": {},
   "outputs": [],
   "source": [
    "Q9. Write a code to print odd numbers from 1 to 100 using list comprehension."
   ]
  },
  {
   "cell_type": "code",
   "execution_count": 3,
   "id": "53f585b4-b783-4938-9ad4-ac1e4e5991e4",
   "metadata": {},
   "outputs": [
    {
     "name": "stdout",
     "output_type": "stream",
     "text": [
      "[1, 3, 5, 7, 9, 11, 13, 15, 17, 19, 21, 23, 25, 27, 29, 31, 33, 35, 37, 39, 41, 43, 45, 47, 49, 51, 53, 55, 57, 59, 61, 63, 65, 67, 69, 71, 73, 75, 77, 79, 81, 83, 85, 87, 89, 91, 93, 95, 97, 99]\n"
     ]
    }
   ],
   "source": [
    "numbers = [x for x in range(1, 101)]\n",
    "odd_numbers = [x for x in numbers if x % 2 != 0]\n",
    "print(odd_numbers)\n"
   ]
  },
  {
   "cell_type": "code",
   "execution_count": 6,
   "id": "f4759e2b-6f25-4522-a2c8-68baae76d8fb",
   "metadata": {},
   "outputs": [
    {
     "ename": "NameError",
     "evalue": "name 'I' is not defined",
     "output_type": "error",
     "traceback": [
      "\u001b[0;31m---------------------------------------------------------------------------\u001b[0m",
      "\u001b[0;31mNameError\u001b[0m                                 Traceback (most recent call last)",
      "Cell \u001b[0;32mIn[6], line 1\u001b[0m\n\u001b[0;32m----> 1\u001b[0m \u001b[38;5;28mlist\u001b[39m(\u001b[38;5;28mfilter\u001b[39m(\u001b[38;5;28;01mlambda\u001b[39;00m x : x\u001b[38;5;241m%\u001b[39m\u001b[38;5;241m2\u001b[39m \u001b[38;5;241m==\u001b[39m \u001b[38;5;241m0\u001b[39m,\u001b[43mI\u001b[49m))\n",
      "\u001b[0;31mNameError\u001b[0m: name 'I' is not defined"
     ]
    }
   ],
   "source": [
    "list(filter(lambda x : x%2 == 0,I))"
   ]
  },
  {
   "cell_type": "code",
   "execution_count": null,
   "id": "571bcfb0-beb0-4dcd-97b6-52df0a6bc3d8",
   "metadata": {},
   "outputs": [],
   "source": []
  }
 ],
 "metadata": {
  "kernelspec": {
   "display_name": "Python 3 (ipykernel)",
   "language": "python",
   "name": "python3"
  },
  "language_info": {
   "codemirror_mode": {
    "name": "ipython",
    "version": 3
   },
   "file_extension": ".py",
   "mimetype": "text/x-python",
   "name": "python",
   "nbconvert_exporter": "python",
   "pygments_lexer": "ipython3",
   "version": "3.10.8"
  }
 },
 "nbformat": 4,
 "nbformat_minor": 5
}
